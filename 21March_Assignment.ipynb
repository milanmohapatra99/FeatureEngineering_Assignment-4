{
 "cells": [
  {
   "cell_type": "markdown",
   "id": "73c844c2",
   "metadata": {},
   "source": [
    "# Q1. What is the difference between Ordinal Encoding and Label Encoding? Provide an example of when you might choose one over the other."
   ]
  },
  {
   "cell_type": "markdown",
   "id": "c462e193",
   "metadata": {},
   "source": [
    "Ordinal Encoding:\n",
    "    \n",
    "Ordinal encoding simply assign a unique numerical value to each category. The number are given based on the order they are appeared in the dataset by default.\n",
    "\n",
    "For example:\n",
    "\n",
    "Large => 1\n",
    "Medium => 2\n",
    "Small => 3\n",
    "\n",
    "If there is no order nor is the relation b/w different category for the feature say Color of the Shirt. \n",
    "\n",
    "Label Encoding:\n",
    "    \n",
    "Label Encoding is used to transform our dataset target variable to Numbers where each Label/class is represented by unique number. It is kind of similar to ordinal encoding however these numbers can't be ranked/ordered.\n",
    "\n",
    "We must not use Label Encoding for the features. It is used only for target variable encoding.\n",
    "\n",
    "For example:\n",
    "    \n",
    "If we have a categorical variable \"Color\" with categories \"Red\", \"Green\" and \"Blue\", we might assign the values 1, 2 and 3 respectively to each category."
   ]
  },
  {
   "cell_type": "markdown",
   "id": "33bdcbb0",
   "metadata": {},
   "source": [
    "# Q2. Explain how Target Guided Ordinal Encoding works and provide an example of when you might use it in a machine learning project."
   ]
  },
  {
   "cell_type": "markdown",
   "id": "b73accd0",
   "metadata": {},
   "source": [
    "Target guided ordinal encoding is a method of encoding categorical variables that combines the ideas of target encoding and ordinal encoding.\n",
    "\n",
    "It involves encoding the categories of a categorical variable based on the mean of the target variable for each category, and then assigning an integer value to each category based on their order or rank.\n",
    "\n",
    "\n",
    "The process involves the following steps:\n",
    "\n",
    "- Group the data by the categorical variable and calculate the mean of the target variable for each category.\n",
    "\n",
    "- Sort the categories based on the mean of the target variable in ascending or descending order.\n",
    "\n",
    "- Assign an integer value to each category based on their rank.\n",
    "\n",
    "- Replace the original categorical variable with the encoded variable.\n",
    "\n",
    "Example:\n",
    "\n",
    "Consider a dataset of credit card applications, where we want to predict whether an applicant will default on their payments or not. One of the categorical variables is \"Education\", with categories \"High School\", \"College\", \"Graduate\", and \"Post-graduate\". We can use target guided ordinal encoding to encode the variables."
   ]
  },
  {
   "cell_type": "markdown",
   "id": "ab8bd43c",
   "metadata": {},
   "source": [
    "# Q3. Define covariance and explain why it is important in statistical analysis. How is covariance calculated?"
   ]
  },
  {
   "cell_type": "markdown",
   "id": "ac0cb7bf",
   "metadata": {},
   "source": [
    "Covariance and correlation greatly aid in understanding the relationship between two continuous variables. Covariance indicates whether two variables fluctuate in the same (positive covariance) or opposite direction (negative covariance). The numerical value of covariance has no importance; only the sign is relevant.\n",
    "\n",
    "Covariance is different from the correlation coefficient, a measure of the strength of a correlative relationship.\n",
    "Covariance is an important tool in modern portfolio theory for determining what securities to put in a portfolio.\n",
    "Risk and volatility can be reduced in a portfolio by pairing assets that have a negative covariance."
   ]
  },
  {
   "attachments": {
    "covariance1.png": {
     "image/png": "[encoded data removed]"
    }
   },
   "cell_type": "markdown",
   "id": "de29d274",
   "metadata": {},
   "source": [
    "![covariance1.png](attachment:covariance1.png)"
   ]
  },
  {
   "cell_type": "markdown",
   "id": "8da807f2",
   "metadata": {},
   "source": [
    "Where:\n",
    "\n",
    "Xi – the values of the X-variable\n",
    "Yj – the values of the Y-variable\n",
    "X̄ – the mean (average) of the X-variable\n",
    "Ȳ – the mean (average) of the Y-variable\n",
    "n – the number of data points\n",
    "\n",
    "e.g:\n",
    "    \n",
    "Joe is an investor. His portfolio primarily tracks the performance of the S&P 500 and John wants to add the stock of ABC Corp. Before adding the stock to his portfolio, he wants to assess the directional relationship between the stock and the S&P 500.\n",
    "\n",
    "Joe does not want to increase the unsystematic risk of his portfolio. Thus, he is not interested in owning securities in the portfolio that tend to move in the same direction."
   ]
  },
  {
   "cell_type": "markdown",
   "id": "a5423df3",
   "metadata": {},
   "source": [
    "# Q4. For a dataset with the following categorical variables: Color (red, green, blue), Size (small, medium, large), and Material (wood, metal, plastic), perform label encoding using Python's scikit-learn library. Show your code and explain the output."
   ]
  },
  {
   "cell_type": "code",
   "execution_count": 2,
   "id": "421db6a1",
   "metadata": {},
   "outputs": [
    {
     "data": {
      "text/html": [
       "<div>\n",
       "<style scoped>\n",
       "    .dataframe tbody tr th:only-of-type {\n",
       "        vertical-align: middle;\n",
       "    }\n",
       "\n",
       "    .dataframe tbody tr th {\n",
       "        vertical-align: top;\n",
       "    }\n",
       "\n",
       "    .dataframe thead th {\n",
       "        text-align: right;\n",
       "    }\n",
       "</style>\n",
       "<table border=\"1\" class=\"dataframe\">\n",
       "  <thead>\n",
       "    <tr style=\"text-align: right;\">\n",
       "      <th></th>\n",
       "      <th>Color</th>\n",
       "      <th>Size</th>\n",
       "      <th>Material</th>\n",
       "      <th>Color_encoded</th>\n",
       "      <th>Size_encoded</th>\n",
       "      <th>Material_encoded</th>\n",
       "    </tr>\n",
       "  </thead>\n",
       "  <tbody>\n",
       "    <tr>\n",
       "      <th>0</th>\n",
       "      <td>red</td>\n",
       "      <td>small</td>\n",
       "      <td>wood</td>\n",
       "      <td>2</td>\n",
       "      <td>2</td>\n",
       "      <td>2</td>\n",
       "    </tr>\n",
       "    <tr>\n",
       "      <th>1</th>\n",
       "      <td>green</td>\n",
       "      <td>medium</td>\n",
       "      <td>metal</td>\n",
       "      <td>1</td>\n",
       "      <td>1</td>\n",
       "      <td>0</td>\n",
       "    </tr>\n",
       "    <tr>\n",
       "      <th>2</th>\n",
       "      <td>blue</td>\n",
       "      <td>large</td>\n",
       "      <td>plastic</td>\n",
       "      <td>0</td>\n",
       "      <td>0</td>\n",
       "      <td>1</td>\n",
       "    </tr>\n",
       "    <tr>\n",
       "      <th>3</th>\n",
       "      <td>red</td>\n",
       "      <td>small</td>\n",
       "      <td>wood</td>\n",
       "      <td>2</td>\n",
       "      <td>2</td>\n",
       "      <td>2</td>\n",
       "    </tr>\n",
       "    <tr>\n",
       "      <th>4</th>\n",
       "      <td>green</td>\n",
       "      <td>medium</td>\n",
       "      <td>metal</td>\n",
       "      <td>1</td>\n",
       "      <td>1</td>\n",
       "      <td>0</td>\n",
       "    </tr>\n",
       "    <tr>\n",
       "      <th>5</th>\n",
       "      <td>blue</td>\n",
       "      <td>large</td>\n",
       "      <td>plastic</td>\n",
       "      <td>0</td>\n",
       "      <td>0</td>\n",
       "      <td>1</td>\n",
       "    </tr>\n",
       "  </tbody>\n",
       "</table>\n",
       "</div>"
      ],
      "text/plain": [
       "   Color    Size Material  Color_encoded  Size_encoded  Material_encoded\n",
       "0    red   small     wood              2             2                 2\n",
       "1  green  medium    metal              1             1                 0\n",
       "2   blue   large  plastic              0             0                 1\n",
       "3    red   small     wood              2             2                 2\n",
       "4  green  medium    metal              1             1                 0\n",
       "5   blue   large  plastic              0             0                 1"
      ]
     },
     "execution_count": 2,
     "metadata": {},
     "output_type": "execute_result"
    }
   ],
   "source": [
    "from sklearn.preprocessing import LabelEncoder\n",
    "import pandas as pd\n",
    "\n",
    "# Create a sample dataset\n",
    "data = {'Color': ['red', 'green', 'blue', 'red', 'green', 'blue'],\n",
    "        'Size': ['small', 'medium', 'large', 'small', 'medium', 'large'],\n",
    "        'Material': ['wood', 'metal', 'plastic', 'wood', 'metal', 'plastic']}\n",
    "df = pd.DataFrame(data)\n",
    "\n",
    "# Initialize the LabelEncoder\n",
    "le = LabelEncoder()\n",
    "\n",
    "# Apply label encoding on the categorical variables\n",
    "df['Color_encoded'] = le.fit_transform(df['Color'])\n",
    "df['Size_encoded'] = le.fit_transform(df['Size'])\n",
    "df['Material_encoded'] = le.fit_transform(df['Material'])\n",
    "\n",
    "# Show the encoded dataset\n",
    "df"
   ]
  },
  {
   "cell_type": "markdown",
   "id": "ce1ea491",
   "metadata": {},
   "source": [
    "# Q5. Calculate the covariance matrix for the following variables in a dataset: Age, Income, and Education level. Interpret the results."
   ]
  },
  {
   "cell_type": "code",
   "execution_count": 3,
   "id": "895b5fd9",
   "metadata": {},
   "outputs": [
    {
     "name": "stdout",
     "output_type": "stream",
     "text": [
      "[[3.51368875e+02 2.69556147e+04 6.41147863e+00]\n",
      " [2.69556147e+04 9.53473704e+07 1.86468206e+02]\n",
      " [6.41147863e+00 1.86468206e+02 3.53672669e+00]]\n"
     ]
    }
   ],
   "source": [
    "import numpy as np\n",
    "import pandas as pd\n",
    "\n",
    "# Create a sample dataset\n",
    "age = np.random.normal(40, 20, 100)\n",
    "income = np.random.normal(50000, 10000, 100)\n",
    "education = np.random.normal(14, 2, 100)\n",
    "df = pd.DataFrame({'Age': age, 'Income': income, 'Education': education})\n",
    "\n",
    "# Calculate the covariance matrix\n",
    "cov_matrix = np.cov(df.T)\n",
    "\n",
    "# Show the covariance matrix\n",
    "print(cov_matrix)"
   ]
  },
  {
   "cell_type": "markdown",
   "id": "f24c41ae",
   "metadata": {},
   "source": [
    "# Q6. You are working on a machine learning project with a dataset containing several categorical variables, including \"Gender\" (Male/Female), \"Education Level\" (High School/Bachelor's/Master's/PhD), and \"Employment Status\" (Unemployed/Part-Time/Full-Time). Which encoding method would you use for each variable, and why?"
   ]
  },
  {
   "cell_type": "markdown",
   "id": "0d78c1d3",
   "metadata": {},
   "source": [
    "- For the categorical variable \"Gender\" (Male/Female), I would use binary encoding, as there are only two categories. Binary encoding will create a new feature with values 0 or 1 representing the presence or absence of the category. In this case, we could represent \"Male\" as 0 and \"Female\" as 1.\n",
    "\n",
    "- For the categorical variable \"Education Level\" (High School/Bachelor's/Master's/PhD), I would use ordinal encoding, as there is an inherent order to the categories. Ordinal encoding will replace each category with a numerical value that reflects its position in the ordering of the categories.In this case, we could assign \"High School\" a value of 1, \"Bachelor's\" a value of 2, \"Master's\" a value of 3, and \"PhD\" a value of 4.\n",
    "\n",
    "- For the categorical variable \"Employment Status\" (Unemployed/Part-Time/Full-Time), I would use one-hot encoding, as there is no inherent order to the categories. One-hot encoding will create a new binary feature for each category, where a value of 1 indicates the presence of the category and a value of 0 indicates the absence. In this case, we would create three new binary features, one for each category.\n",
    "\n",
    "- Encoding method may also depend on the specific machine learning algorithm being used and the particular characteristics of the dataset."
   ]
  },
  {
   "cell_type": "markdown",
   "id": "e5016f06",
   "metadata": {},
   "source": [
    "# Q7. You are analyzing a dataset with two continuous variables, \"Temperature\" and \"Humidity\", and two categorical variables, \"Weather Condition\" (Sunny/Cloudy/Rainy) and \"Wind Direction\" (North/South/East/West). Calculate the covariance between each pair of variables and interpret the results."
   ]
  },
  {
   "cell_type": "code",
   "execution_count": 4,
   "id": "df197aee",
   "metadata": {},
   "outputs": [
    {
     "name": "stdout",
     "output_type": "stream",
     "text": [
      "Covariance between Temperature and Humidity:\n",
      " [[24.84941562 -0.08211993]\n",
      " [-0.08211993 81.62669994]]\n",
      "Covariance between Weather Condition and Wind Direction:\n",
      " [[0.20833333 0.29166667 0.25       0.25      ]\n",
      " [0.23684211 0.23684211 0.23684211 0.28947368]\n",
      " [0.23684211 0.31578947 0.31578947 0.13157895]]\n"
     ]
    }
   ],
   "source": [
    "import numpy as np\n",
    "import pandas as pd\n",
    "\n",
    "# Create a sample dataset\n",
    "temperature = np.random.normal(35, 5, 100)\n",
    "humidity = np.random.normal(50, 10, 100)\n",
    "weather_condition = np.random.choice(['Sunny', 'Cloudy', 'Rainy'], 100)\n",
    "wind_direction = np.random.choice(['North', 'South', 'East', 'West'], 100)\n",
    "df = pd.DataFrame({'Temperature': temperature, 'Humidity': humidity, 'Weather Condition': weather_condition, 'Wind Direction': wind_direction})\n",
    "\n",
    "# Calculate the covariance matrix\n",
    "cov_matrix = np.cov(df[['Temperature', 'Humidity']].T)\n",
    "print('Covariance between Temperature and Humidity:\\n', cov_matrix)\n",
    "\n",
    "cov_matrix = pd.crosstab(df['Weather Condition'], df['Wind Direction'], normalize='index').values\n",
    "print('Covariance between Weather Condition and Wind Direction:\\n', cov_matrix)"
   ]
  },
  {
   "cell_type": "code",
   "execution_count": null,
   "id": "9086365a",
   "metadata": {},
   "outputs": [],
   "source": []
  },
  {
   "cell_type": "code",
   "execution_count": null,
   "id": "c48f0170",
   "metadata": {},
   "outputs": [],
   "source": []
  }
 ],
 "metadata": {
  "kernelspec": {
   "display_name": "Python 3 (ipykernel)",
   "language": "python",
   "name": "python3"
  },
  "language_info": {
   "codemirror_mode": {
    "name": "ipython",
    "version": 3
   },
   "file_extension": ".py",
   "mimetype": "text/x-python",
   "name": "python",
   "nbconvert_exporter": "python",
   "pygments_lexer": "ipython3",
   "version": "3.10.9"
  }
 },
 "nbformat": 4,
 "nbformat_minor": 5
}
